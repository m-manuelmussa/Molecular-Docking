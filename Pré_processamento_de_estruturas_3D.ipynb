{
  "nbformat": 4,
  "nbformat_minor": 0,
  "metadata": {
    "colab": {
      "provenance": [],
      "gpuType": "T4",
      "include_colab_link": true
    },
    "kernelspec": {
      "name": "python3",
      "display_name": "Python 3"
    },
    "language_info": {
      "name": "python"
    }
  },
  "cells": [
    {
      "cell_type": "markdown",
      "metadata": {
        "id": "view-in-github",
        "colab_type": "text"
      },
      "source": [
        "<a href=\"https://colab.research.google.com/github/m-manuelmussa/Molecular-Docking/blob/main/Pr%C3%A9_processamento_de_estruturas_3D.ipynb\" target=\"_parent\"><img src=\"https://colab.research.google.com/assets/colab-badge.svg\" alt=\"Open In Colab\"/></a>"
      ]
    },
    {
      "cell_type": "markdown",
      "source": [
        "\n",
        "# **Pré-processamento de estruturas 3D**\n",
        "\n",
        "*@Micliete_Mussa*"
      ],
      "metadata": {
        "id": "WoJZbWXJbH6D"
      }
    },
    {
      "cell_type": "markdown",
      "source": [
        "# **PIPELINE**\n",
        "1. Importação de frameworks necessários\n",
        "2. Execução da requisição e obtenção da resposta sobre as estruturas pdb a partir de UniProt\n",
        "3. Selecção de estruturas a partir de critérios de interesse\n",
        "4. Remoção de clones de estruturas pdb\n",
        "5. Visualização da DataFrame de estruturas pré-processadas\n",
        "6. Montagem da pasta na Drive**\n",
        "7. Download das estruturas pré-processadas"
      ],
      "metadata": {
        "id": "u-63nipMcnOn"
      }
    },
    {
      "cell_type": "markdown",
      "source": [
        "### **1. Importação de frameworks necessários**"
      ],
      "metadata": {
        "id": "6P4coF5pvAEC"
      }
    },
    {
      "cell_type": "code",
      "source": [
        "import requests\n",
        "from google.colab import drive\n",
        "import os\n",
        "import time\n",
        "import pandas as pd"
      ],
      "metadata": {
        "id": "1PsBGMmWUxaQ"
      },
      "execution_count": null,
      "outputs": []
    },
    {
      "cell_type": "markdown",
      "source": [
        "### **2. Execução da requisição e obtenção da resposta sobre as estruturas pdb a partir de UniProt**"
      ],
      "metadata": {
        "id": "VoCcJd1zwr53"
      }
    },
    {
      "cell_type": "code",
      "source": [
        "uniprot_id = \"Q13936\"  # Código UNIPROT substituível, outro (P35439, P22756)\n",
        "url = f\"https://www.ebi.ac.uk/pdbe/api/mappings/best_structures/{uniprot_id}\"\n",
        "\n",
        "try:\n",
        "    response = requests.get(url, timeout=10).json()\n",
        "except Exception as e:\n",
        "    print(f\"Erro ao buscar dados para UniProt {uniprot_id}: {e}\")\n",
        "    response = {}"
      ],
      "metadata": {
        "id": "pGdy4n1sMHQa"
      },
      "execution_count": null,
      "outputs": []
    },
    {
      "cell_type": "code",
      "source": [
        "# Contar estruturas\n",
        "if uniprot_id in response:\n",
        "    total = len(response[uniprot_id])\n",
        "print(f\"Estruturas Disponíveis: {total}\")"
      ],
      "metadata": {
        "colab": {
          "base_uri": "https://localhost:8080/"
        },
        "id": "iMWexx7i2Kpf",
        "outputId": "cb4478ed-3a5c-48cc-b27b-40f5e93738c3"
      },
      "execution_count": null,
      "outputs": [
        {
          "output_type": "stream",
          "name": "stdout",
          "text": [
            "Estruturas Disponíveis: 50\n"
          ]
        }
      ]
    },
    {
      "cell_type": "markdown",
      "source": [
        "### **3. Selecção de estruturas a partir de critérios de interesse**"
      ],
      "metadata": {
        "id": "auwai909x0YG"
      }
    },
    {
      "cell_type": "code",
      "source": [
        "if uniprot_id in response:\n",
        "    # Filtrar pela resolução ≤ 2.5 Å\n",
        "    filtered = [\n",
        "        entry for entry in response[uniprot_id]\n",
        "        if entry.get(\"resolution\") is not None and entry[\"resolution\"] <= 2.5\n",
        "    ]"
      ],
      "metadata": {
        "id": "x3pxzZsnwY9B"
      },
      "execution_count": null,
      "outputs": []
    },
    {
      "cell_type": "markdown",
      "source": [
        "### **4. Remoção de clones de estruturas pdb**"
      ],
      "metadata": {
        "id": "yHmH5mtGyY6L"
      }
    },
    {
      "cell_type": "code",
      "source": [
        "    # Remover PDBs repetidos\n",
        "    unique_pdbs = {}\n",
        "    for entry in filtered:\n",
        "        pdb_id = entry[\"pdb_id\"]\n",
        "        if pdb_id not in unique_pdbs:\n",
        "            unique_pdbs[pdb_id] = entry\n",
        "\n",
        "    filtered = list(unique_pdbs.values())"
      ],
      "metadata": {
        "id": "IIBLavJ4whUS"
      },
      "execution_count": null,
      "outputs": []
    },
    {
      "cell_type": "code",
      "source": [
        "\n",
        "total = len(filtered)\n",
        "print(f\"Estruturas Disponíveis: {total}\")"
      ],
      "metadata": {
        "colab": {
          "base_uri": "https://localhost:8080/"
        },
        "id": "kS3Gh2AA3bFf",
        "outputId": "9ceb7336-f769-49b3-9712-d3461c72acf6"
      },
      "execution_count": null,
      "outputs": [
        {
          "output_type": "stream",
          "name": "stdout",
          "text": [
            "Estruturas Disponíveis: 14\n"
          ]
        }
      ]
    },
    {
      "cell_type": "markdown",
      "source": [
        "### **5. Visualização da DataFrame de estruturas pré-processadas**"
      ],
      "metadata": {
        "id": "pDsBZiJJylX8"
      }
    },
    {
      "cell_type": "code",
      "source": [
        "if filtered:\n",
        "    print(f\"Estruturas com resolução ≤ 2.5 Å para {uniprot_id} (sem duplicatas):\")\n",
        "    # Transformar em DataFrame para visualização\n",
        "    df = pd.DataFrame(filtered)\n",
        "    display(df[[\"pdb_id\", \"resolution\", \"experimental_method\"]].sort_values(\"resolution\"))"
      ],
      "metadata": {
        "colab": {
          "base_uri": "https://localhost:8080/",
          "height": 506
        },
        "id": "ICs-Hx1uyBZY",
        "outputId": "054e485c-7ec8-48b1-9187-bb8f97efc158"
      },
      "execution_count": null,
      "outputs": [
        {
          "output_type": "stream",
          "name": "stdout",
          "text": [
            "Estruturas com resolução ≤ 2.5 Å para Q13936 (sem duplicatas):\n"
          ]
        },
        {
          "output_type": "display_data",
          "data": {
            "text/plain": [
              "   pdb_id  resolution experimental_method\n",
              "9    2f3y        1.45   X-ray diffraction\n",
              "10   2f3z        1.60   X-ray diffraction\n",
              "1    6dad        1.65   X-ray diffraction\n",
              "2    6u3a        1.65   X-ray diffraction\n",
              "3    6u3b        1.70   X-ray diffraction\n",
              "11   5v2q        1.70   X-ray diffraction\n",
              "4    6u3d        1.75   X-ray diffraction\n",
              "6    6dae        2.00   X-ray diffraction\n",
              "13   1t0j        2.00   X-ray diffraction\n",
              "12   5v2p        2.00   X-ray diffraction\n",
              "5    2be6        2.00   X-ray diffraction\n",
              "0    3g43        2.10   X-ray diffraction\n",
              "7    6daf        2.40   X-ray diffraction\n",
              "8    6u39        2.40   X-ray diffraction"
            ],
            "text/html": [
              "\n",
              "  <div id=\"df-82a3ab79-fc32-4a04-82c2-04124373dd0e\" class=\"colab-df-container\">\n",
              "    <div>\n",
              "<style scoped>\n",
              "    .dataframe tbody tr th:only-of-type {\n",
              "        vertical-align: middle;\n",
              "    }\n",
              "\n",
              "    .dataframe tbody tr th {\n",
              "        vertical-align: top;\n",
              "    }\n",
              "\n",
              "    .dataframe thead th {\n",
              "        text-align: right;\n",
              "    }\n",
              "</style>\n",
              "<table border=\"1\" class=\"dataframe\">\n",
              "  <thead>\n",
              "    <tr style=\"text-align: right;\">\n",
              "      <th></th>\n",
              "      <th>pdb_id</th>\n",
              "      <th>resolution</th>\n",
              "      <th>experimental_method</th>\n",
              "    </tr>\n",
              "  </thead>\n",
              "  <tbody>\n",
              "    <tr>\n",
              "      <th>9</th>\n",
              "      <td>2f3y</td>\n",
              "      <td>1.45</td>\n",
              "      <td>X-ray diffraction</td>\n",
              "    </tr>\n",
              "    <tr>\n",
              "      <th>10</th>\n",
              "      <td>2f3z</td>\n",
              "      <td>1.60</td>\n",
              "      <td>X-ray diffraction</td>\n",
              "    </tr>\n",
              "    <tr>\n",
              "      <th>1</th>\n",
              "      <td>6dad</td>\n",
              "      <td>1.65</td>\n",
              "      <td>X-ray diffraction</td>\n",
              "    </tr>\n",
              "    <tr>\n",
              "      <th>2</th>\n",
              "      <td>6u3a</td>\n",
              "      <td>1.65</td>\n",
              "      <td>X-ray diffraction</td>\n",
              "    </tr>\n",
              "    <tr>\n",
              "      <th>3</th>\n",
              "      <td>6u3b</td>\n",
              "      <td>1.70</td>\n",
              "      <td>X-ray diffraction</td>\n",
              "    </tr>\n",
              "    <tr>\n",
              "      <th>11</th>\n",
              "      <td>5v2q</td>\n",
              "      <td>1.70</td>\n",
              "      <td>X-ray diffraction</td>\n",
              "    </tr>\n",
              "    <tr>\n",
              "      <th>4</th>\n",
              "      <td>6u3d</td>\n",
              "      <td>1.75</td>\n",
              "      <td>X-ray diffraction</td>\n",
              "    </tr>\n",
              "    <tr>\n",
              "      <th>6</th>\n",
              "      <td>6dae</td>\n",
              "      <td>2.00</td>\n",
              "      <td>X-ray diffraction</td>\n",
              "    </tr>\n",
              "    <tr>\n",
              "      <th>13</th>\n",
              "      <td>1t0j</td>\n",
              "      <td>2.00</td>\n",
              "      <td>X-ray diffraction</td>\n",
              "    </tr>\n",
              "    <tr>\n",
              "      <th>12</th>\n",
              "      <td>5v2p</td>\n",
              "      <td>2.00</td>\n",
              "      <td>X-ray diffraction</td>\n",
              "    </tr>\n",
              "    <tr>\n",
              "      <th>5</th>\n",
              "      <td>2be6</td>\n",
              "      <td>2.00</td>\n",
              "      <td>X-ray diffraction</td>\n",
              "    </tr>\n",
              "    <tr>\n",
              "      <th>0</th>\n",
              "      <td>3g43</td>\n",
              "      <td>2.10</td>\n",
              "      <td>X-ray diffraction</td>\n",
              "    </tr>\n",
              "    <tr>\n",
              "      <th>7</th>\n",
              "      <td>6daf</td>\n",
              "      <td>2.40</td>\n",
              "      <td>X-ray diffraction</td>\n",
              "    </tr>\n",
              "    <tr>\n",
              "      <th>8</th>\n",
              "      <td>6u39</td>\n",
              "      <td>2.40</td>\n",
              "      <td>X-ray diffraction</td>\n",
              "    </tr>\n",
              "  </tbody>\n",
              "</table>\n",
              "</div>\n",
              "    <div class=\"colab-df-buttons\">\n",
              "\n",
              "  <div class=\"colab-df-container\">\n",
              "    <button class=\"colab-df-convert\" onclick=\"convertToInteractive('df-82a3ab79-fc32-4a04-82c2-04124373dd0e')\"\n",
              "            title=\"Convert this dataframe to an interactive table.\"\n",
              "            style=\"display:none;\">\n",
              "\n",
              "  <svg xmlns=\"http://www.w3.org/2000/svg\" height=\"24px\" viewBox=\"0 -960 960 960\">\n",
              "    <path d=\"M120-120v-720h720v720H120Zm60-500h600v-160H180v160Zm220 220h160v-160H400v160Zm0 220h160v-160H400v160ZM180-400h160v-160H180v160Zm440 0h160v-160H620v160ZM180-180h160v-160H180v160Zm440 0h160v-160H620v160Z\"/>\n",
              "  </svg>\n",
              "    </button>\n",
              "\n",
              "  <style>\n",
              "    .colab-df-container {\n",
              "      display:flex;\n",
              "      gap: 12px;\n",
              "    }\n",
              "\n",
              "    .colab-df-convert {\n",
              "      background-color: #E8F0FE;\n",
              "      border: none;\n",
              "      border-radius: 50%;\n",
              "      cursor: pointer;\n",
              "      display: none;\n",
              "      fill: #1967D2;\n",
              "      height: 32px;\n",
              "      padding: 0 0 0 0;\n",
              "      width: 32px;\n",
              "    }\n",
              "\n",
              "    .colab-df-convert:hover {\n",
              "      background-color: #E2EBFA;\n",
              "      box-shadow: 0px 1px 2px rgba(60, 64, 67, 0.3), 0px 1px 3px 1px rgba(60, 64, 67, 0.15);\n",
              "      fill: #174EA6;\n",
              "    }\n",
              "\n",
              "    .colab-df-buttons div {\n",
              "      margin-bottom: 4px;\n",
              "    }\n",
              "\n",
              "    [theme=dark] .colab-df-convert {\n",
              "      background-color: #3B4455;\n",
              "      fill: #D2E3FC;\n",
              "    }\n",
              "\n",
              "    [theme=dark] .colab-df-convert:hover {\n",
              "      background-color: #434B5C;\n",
              "      box-shadow: 0px 1px 3px 1px rgba(0, 0, 0, 0.15);\n",
              "      filter: drop-shadow(0px 1px 2px rgba(0, 0, 0, 0.3));\n",
              "      fill: #FFFFFF;\n",
              "    }\n",
              "  </style>\n",
              "\n",
              "    <script>\n",
              "      const buttonEl =\n",
              "        document.querySelector('#df-82a3ab79-fc32-4a04-82c2-04124373dd0e button.colab-df-convert');\n",
              "      buttonEl.style.display =\n",
              "        google.colab.kernel.accessAllowed ? 'block' : 'none';\n",
              "\n",
              "      async function convertToInteractive(key) {\n",
              "        const element = document.querySelector('#df-82a3ab79-fc32-4a04-82c2-04124373dd0e');\n",
              "        const dataTable =\n",
              "          await google.colab.kernel.invokeFunction('convertToInteractive',\n",
              "                                                    [key], {});\n",
              "        if (!dataTable) return;\n",
              "\n",
              "        const docLinkHtml = 'Like what you see? Visit the ' +\n",
              "          '<a target=\"_blank\" href=https://colab.research.google.com/notebooks/data_table.ipynb>data table notebook</a>'\n",
              "          + ' to learn more about interactive tables.';\n",
              "        element.innerHTML = '';\n",
              "        dataTable['output_type'] = 'display_data';\n",
              "        await google.colab.output.renderOutput(dataTable, element);\n",
              "        const docLink = document.createElement('div');\n",
              "        docLink.innerHTML = docLinkHtml;\n",
              "        element.appendChild(docLink);\n",
              "      }\n",
              "    </script>\n",
              "  </div>\n",
              "\n",
              "\n",
              "    <div id=\"df-c781f097-6182-4758-b226-1cd923180817\">\n",
              "      <button class=\"colab-df-quickchart\" onclick=\"quickchart('df-c781f097-6182-4758-b226-1cd923180817')\"\n",
              "                title=\"Suggest charts\"\n",
              "                style=\"display:none;\">\n",
              "\n",
              "<svg xmlns=\"http://www.w3.org/2000/svg\" height=\"24px\"viewBox=\"0 0 24 24\"\n",
              "     width=\"24px\">\n",
              "    <g>\n",
              "        <path d=\"M19 3H5c-1.1 0-2 .9-2 2v14c0 1.1.9 2 2 2h14c1.1 0 2-.9 2-2V5c0-1.1-.9-2-2-2zM9 17H7v-7h2v7zm4 0h-2V7h2v10zm4 0h-2v-4h2v4z\"/>\n",
              "    </g>\n",
              "</svg>\n",
              "      </button>\n",
              "\n",
              "<style>\n",
              "  .colab-df-quickchart {\n",
              "      --bg-color: #E8F0FE;\n",
              "      --fill-color: #1967D2;\n",
              "      --hover-bg-color: #E2EBFA;\n",
              "      --hover-fill-color: #174EA6;\n",
              "      --disabled-fill-color: #AAA;\n",
              "      --disabled-bg-color: #DDD;\n",
              "  }\n",
              "\n",
              "  [theme=dark] .colab-df-quickchart {\n",
              "      --bg-color: #3B4455;\n",
              "      --fill-color: #D2E3FC;\n",
              "      --hover-bg-color: #434B5C;\n",
              "      --hover-fill-color: #FFFFFF;\n",
              "      --disabled-bg-color: #3B4455;\n",
              "      --disabled-fill-color: #666;\n",
              "  }\n",
              "\n",
              "  .colab-df-quickchart {\n",
              "    background-color: var(--bg-color);\n",
              "    border: none;\n",
              "    border-radius: 50%;\n",
              "    cursor: pointer;\n",
              "    display: none;\n",
              "    fill: var(--fill-color);\n",
              "    height: 32px;\n",
              "    padding: 0;\n",
              "    width: 32px;\n",
              "  }\n",
              "\n",
              "  .colab-df-quickchart:hover {\n",
              "    background-color: var(--hover-bg-color);\n",
              "    box-shadow: 0 1px 2px rgba(60, 64, 67, 0.3), 0 1px 3px 1px rgba(60, 64, 67, 0.15);\n",
              "    fill: var(--button-hover-fill-color);\n",
              "  }\n",
              "\n",
              "  .colab-df-quickchart-complete:disabled,\n",
              "  .colab-df-quickchart-complete:disabled:hover {\n",
              "    background-color: var(--disabled-bg-color);\n",
              "    fill: var(--disabled-fill-color);\n",
              "    box-shadow: none;\n",
              "  }\n",
              "\n",
              "  .colab-df-spinner {\n",
              "    border: 2px solid var(--fill-color);\n",
              "    border-color: transparent;\n",
              "    border-bottom-color: var(--fill-color);\n",
              "    animation:\n",
              "      spin 1s steps(1) infinite;\n",
              "  }\n",
              "\n",
              "  @keyframes spin {\n",
              "    0% {\n",
              "      border-color: transparent;\n",
              "      border-bottom-color: var(--fill-color);\n",
              "      border-left-color: var(--fill-color);\n",
              "    }\n",
              "    20% {\n",
              "      border-color: transparent;\n",
              "      border-left-color: var(--fill-color);\n",
              "      border-top-color: var(--fill-color);\n",
              "    }\n",
              "    30% {\n",
              "      border-color: transparent;\n",
              "      border-left-color: var(--fill-color);\n",
              "      border-top-color: var(--fill-color);\n",
              "      border-right-color: var(--fill-color);\n",
              "    }\n",
              "    40% {\n",
              "      border-color: transparent;\n",
              "      border-right-color: var(--fill-color);\n",
              "      border-top-color: var(--fill-color);\n",
              "    }\n",
              "    60% {\n",
              "      border-color: transparent;\n",
              "      border-right-color: var(--fill-color);\n",
              "    }\n",
              "    80% {\n",
              "      border-color: transparent;\n",
              "      border-right-color: var(--fill-color);\n",
              "      border-bottom-color: var(--fill-color);\n",
              "    }\n",
              "    90% {\n",
              "      border-color: transparent;\n",
              "      border-bottom-color: var(--fill-color);\n",
              "    }\n",
              "  }\n",
              "</style>\n",
              "\n",
              "      <script>\n",
              "        async function quickchart(key) {\n",
              "          const quickchartButtonEl =\n",
              "            document.querySelector('#' + key + ' button');\n",
              "          quickchartButtonEl.disabled = true;  // To prevent multiple clicks.\n",
              "          quickchartButtonEl.classList.add('colab-df-spinner');\n",
              "          try {\n",
              "            const charts = await google.colab.kernel.invokeFunction(\n",
              "                'suggestCharts', [key], {});\n",
              "          } catch (error) {\n",
              "            console.error('Error during call to suggestCharts:', error);\n",
              "          }\n",
              "          quickchartButtonEl.classList.remove('colab-df-spinner');\n",
              "          quickchartButtonEl.classList.add('colab-df-quickchart-complete');\n",
              "        }\n",
              "        (() => {\n",
              "          let quickchartButtonEl =\n",
              "            document.querySelector('#df-c781f097-6182-4758-b226-1cd923180817 button');\n",
              "          quickchartButtonEl.style.display =\n",
              "            google.colab.kernel.accessAllowed ? 'block' : 'none';\n",
              "        })();\n",
              "      </script>\n",
              "    </div>\n",
              "\n",
              "    </div>\n",
              "  </div>\n"
            ],
            "application/vnd.google.colaboratory.intrinsic+json": {
              "type": "dataframe",
              "summary": "{\n  \"name\": \"    display(df[[\\\"pdb_id\\\", \\\"resolution\\\", \\\"experimental_method\\\"]]\",\n  \"rows\": 14,\n  \"fields\": [\n    {\n      \"column\": \"pdb_id\",\n      \"properties\": {\n        \"dtype\": \"string\",\n        \"num_unique_values\": 14,\n        \"samples\": [\n          \"5v2p\",\n          \"3g43\",\n          \"2f3y\"\n        ],\n        \"semantic_type\": \"\",\n        \"description\": \"\"\n      }\n    },\n    {\n      \"column\": \"resolution\",\n      \"properties\": {\n        \"dtype\": \"number\",\n        \"std\": 0.29050921568102517,\n        \"min\": 1.45,\n        \"max\": 2.4,\n        \"num_unique_values\": 8,\n        \"samples\": [\n          1.6,\n          2.0,\n          1.45\n        ],\n        \"semantic_type\": \"\",\n        \"description\": \"\"\n      }\n    },\n    {\n      \"column\": \"experimental_method\",\n      \"properties\": {\n        \"dtype\": \"category\",\n        \"num_unique_values\": 1,\n        \"samples\": [\n          \"X-ray diffraction\"\n        ],\n        \"semantic_type\": \"\",\n        \"description\": \"\"\n      }\n    }\n  ]\n}"
            }
          },
          "metadata": {}
        }
      ]
    },
    {
      "cell_type": "code",
      "source": [
        "df.to_excel(\"Estruturas seleccionadas.xlsx\", index=False)"
      ],
      "metadata": {
        "id": "sp_ss2y--fln"
      },
      "execution_count": null,
      "outputs": []
    },
    {
      "cell_type": "markdown",
      "source": [
        "### **6. Montagem da pasta na Drive**"
      ],
      "metadata": {
        "id": "YNE_PRKyByRI"
      }
    },
    {
      "cell_type": "code",
      "source": [
        "# Montar o Google Drive\n",
        "drive.mount('/content/drive')"
      ],
      "metadata": {
        "colab": {
          "base_uri": "https://localhost:8080/"
        },
        "id": "IzoRDm5H2y-e",
        "outputId": "6c5d7faa-cc73-4f34-ae54-d7133461e92b"
      },
      "execution_count": null,
      "outputs": [
        {
          "output_type": "stream",
          "name": "stdout",
          "text": [
            "Mounted at /content/drive\n"
          ]
        }
      ]
    },
    {
      "cell_type": "code",
      "source": [
        "#Montagem da pasta com UNIPROT ID\n",
        "pasta = os.path.join(\"/content/drive/MyDrive\", uniprot_id)\n",
        "os.makedirs(pasta, exist_ok=True)"
      ],
      "metadata": {
        "id": "JyRiOxrK38UC"
      },
      "execution_count": null,
      "outputs": []
    },
    {
      "cell_type": "markdown",
      "source": [
        "### **7. Download das estruturas pré-processadas**"
      ],
      "metadata": {
        "id": "SgAcIH-rypUM"
      }
    },
    {
      "cell_type": "code",
      "source": [
        "# Baixar os PDBs\n",
        "for entry in filtered:\n",
        "    pdb_id = entry[\"pdb_id\"]\n",
        "    resolucao = entry.get(\"resolution\", \"N/A\")\n",
        "    metodo = entry.get(\"experimental_method\", \"N/A\")\n",
        "    url_pdb = f\"https://www.ebi.ac.uk/pdbe/entry-files/pdb{pdb_id}.ent\"\n",
        "    nome_arquivo = os.path.join(pasta, f\"{pdb_id}.pdb\")\n",
        "\n",
        "    try:\n",
        "        r = requests.get(url_pdb, timeout=10)\n",
        "        if r.status_code == 200:\n",
        "            with open(nome_arquivo, \"wb\") as f:\n",
        "                f.write(r.content)\n",
        "            print(f\"Baixado {pdb_id} ({resolucao} Å, {metodo})\")\n",
        "        else:\n",
        "            print(f\"Não foi possível baixar {pdb_id} — Status: {r.status_code}\")\n",
        "    except Exception as e:\n",
        "        print(f\"Erro ao baixar {pdb_id}: {e}\")\n",
        "\n",
        "    time.sleep(0.05)  # evitar sobrecarga na API"
      ],
      "metadata": {
        "colab": {
          "base_uri": "https://localhost:8080/"
        },
        "id": "5Cegc9VqWcie",
        "outputId": "bda39dd4-c9df-44c7-ab0c-f5593f447738"
      },
      "execution_count": null,
      "outputs": [
        {
          "output_type": "stream",
          "name": "stdout",
          "text": [
            "Baixado 3g43 (2.1 Å, X-ray diffraction)\n",
            "Baixado 6dad (1.65 Å, X-ray diffraction)\n",
            "Baixado 6u3a (1.65 Å, X-ray diffraction)\n",
            "Baixado 6u3b (1.7 Å, X-ray diffraction)\n",
            "Baixado 6u3d (1.75 Å, X-ray diffraction)\n",
            "Baixado 2be6 (2.0 Å, X-ray diffraction)\n",
            "Baixado 6dae (2.0 Å, X-ray diffraction)\n",
            "Baixado 6daf (2.4 Å, X-ray diffraction)\n",
            "Baixado 6u39 (2.4 Å, X-ray diffraction)\n",
            "Baixado 2f3y (1.45 Å, X-ray diffraction)\n",
            "Baixado 2f3z (1.6 Å, X-ray diffraction)\n",
            "Baixado 5v2q (1.7 Å, X-ray diffraction)\n",
            "Baixado 5v2p (2.0 Å, X-ray diffraction)\n",
            "Baixado 1t0j (2.0 Å, X-ray diffraction)\n"
          ]
        }
      ]
    },
    {
      "cell_type": "markdown",
      "source": [
        "# **FIM**"
      ],
      "metadata": {
        "id": "YshZQycsBqIk"
      }
    }
  ]
}