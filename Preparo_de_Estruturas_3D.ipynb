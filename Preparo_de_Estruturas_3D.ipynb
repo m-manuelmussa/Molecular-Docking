{
  "nbformat": 4,
  "nbformat_minor": 0,
  "metadata": {
    "colab": {
      "provenance": [],
      "include_colab_link": true
    },
    "kernelspec": {
      "name": "python3",
      "display_name": "Python 3"
    },
    "language_info": {
      "name": "python"
    }
  },
  "cells": [
    {
      "cell_type": "markdown",
      "metadata": {
        "id": "view-in-github",
        "colab_type": "text"
      },
      "source": [
        "<a href=\"https://colab.research.google.com/github/m-manuelmussa/Molecular-Docking/blob/main/Preparo_de_Estruturas_3D.ipynb\" target=\"_parent\"><img src=\"https://colab.research.google.com/assets/colab-badge.svg\" alt=\"Open In Colab\"/></a>"
      ]
    },
    {
      "cell_type": "markdown",
      "source": [
        "# **Preparo de estruturas 3D**\n",
        "\n",
        "*@Micliete_Mussa*"
      ],
      "metadata": {
        "id": "kEjkNpsYNseJ"
      }
    },
    {
      "cell_type": "markdown",
      "source": [
        "# **PIPELINE**\n",
        "1. Instalação de dependências chave;\n",
        "2. Importação de frameworks necessários;\n",
        "3. Conversão de formato CIF para PDB;\n",
        "4. Criação de diretórios;\n",
        "3. Remoção de Heteroatomos (excepto água);\n",
        "4. Protonação (pH=7.4);\n",
        "5. Verificação do resultado\n",
        "8. Compactação dos ficheiros PQR\n",
        "9. Download do Zip"
      ],
      "metadata": {
        "id": "8asII7pGN4IU"
      }
    },
    {
      "cell_type": "markdown",
      "source": [
        "[Documentação PDB2PQR ](https://pdb2pqr.readthedocs.io/en/latest/)"
      ],
      "metadata": {
        "id": "OQRvc90L74mM"
      }
    },
    {
      "cell_type": "markdown",
      "source": [
        "## **1. Instalação de dependências chave**"
      ],
      "metadata": {
        "id": "WKtfcQ_j64ym"
      }
    },
    {
      "cell_type": "code",
      "execution_count": null,
      "metadata": {
        "colab": {
          "base_uri": "https://localhost:8080/"
        },
        "id": "5HwcO2_wJ6sd",
        "outputId": "83670213-d472-4a20-8dad-6f52d3a73eaa"
      },
      "outputs": [
        {
          "output_type": "stream",
          "name": "stdout",
          "text": [
            "Reading package lists... Done\n",
            "Building dependency tree... Done\n",
            "Reading state information... Done\n",
            "openbabel is already the newest version (3.1.1+dfsg-6ubuntu5).\n",
            "0 upgraded, 0 newly installed, 0 to remove and 38 not upgraded.\n",
            "Requirement already satisfied: pdb2pqr in /usr/local/lib/python3.12/dist-packages (3.7.1)\n",
            "Requirement already satisfied: docutils<0.18 in /usr/local/lib/python3.12/dist-packages (from pdb2pqr) (0.17.1)\n",
            "Requirement already satisfied: mmcif-pdbx>=1.1.2 in /usr/local/lib/python3.12/dist-packages (from pdb2pqr) (2.0.1)\n",
            "Requirement already satisfied: numpy in /usr/local/lib/python3.12/dist-packages (from pdb2pqr) (2.0.2)\n",
            "Requirement already satisfied: propka>=3.5 in /usr/local/lib/python3.12/dist-packages (from pdb2pqr) (3.5.1)\n",
            "Requirement already satisfied: requests in /usr/local/lib/python3.12/dist-packages (from pdb2pqr) (2.32.4)\n",
            "Requirement already satisfied: charset_normalizer<4,>=2 in /usr/local/lib/python3.12/dist-packages (from requests->pdb2pqr) (3.4.4)\n",
            "Requirement already satisfied: idna<4,>=2.5 in /usr/local/lib/python3.12/dist-packages (from requests->pdb2pqr) (3.11)\n",
            "Requirement already satisfied: urllib3<3,>=1.21.1 in /usr/local/lib/python3.12/dist-packages (from requests->pdb2pqr) (2.5.0)\n",
            "Requirement already satisfied: certifi>=2017.4.17 in /usr/local/lib/python3.12/dist-packages (from requests->pdb2pqr) (2025.10.5)\n"
          ]
        }
      ],
      "source": [
        "# Instalação dependências\n",
        "!apt-get install -y openbabel #Para conversão de formato das estruturas\n",
        "!pip install pdb2pqr #Para o preparo propriamente dito"
      ]
    },
    {
      "cell_type": "markdown",
      "source": [
        "## **2. Importação de frameworks necessários**"
      ],
      "metadata": {
        "id": "akfCBUEg7BdS"
      }
    },
    {
      "cell_type": "code",
      "source": [
        "import os #Para manipulação arquivos, diretórios e caminhos.\n",
        "import subprocess #Para execução comandos do terminal\n",
        "import shutil #Para Compactação de pastas\n",
        "from google.colab import files #Para controle de pastas no ambiente Colab"
      ],
      "metadata": {
        "id": "Th-W9SB_2ke8"
      },
      "execution_count": null,
      "outputs": []
    },
    {
      "cell_type": "markdown",
      "source": [
        "## **3. Conversão de formato CIF para PDB**"
      ],
      "metadata": {
        "id": "nqYs8JPh7sP1"
      }
    },
    {
      "cell_type": "code",
      "source": [
        "folder_path = \"/content\"\n",
        "pdb_folder = os.path.join(folder_path, \"pdb_files\")\n",
        "os.makedirs(pdb_folder, exist_ok=True)\n",
        "\n",
        "# Lista que vai armazenar os caminhos dos PDBs convertidos\n",
        "pdb_files = []\n",
        "\n",
        "# Converter todos os CIF para PDB\n",
        "for cif_file in os.listdir(folder_path):\n",
        "    if cif_file.endswith(\".cif\"):\n",
        "        cif_path = os.path.join(folder_path, cif_file)\n",
        "        pdb_name = os.path.splitext(cif_file)[0] + \".pdb\"\n",
        "        pdb_path = os.path.join(pdb_folder, pdb_name)\n",
        "        # Converter via OpenBabel\n",
        "        os.system(f\"obabel {cif_path} -O {pdb_path}\")\n",
        "        # Adicionar caminho do PDB gerado na lista\n",
        "        pdb_files.append(pdb_path)"
      ],
      "metadata": {
        "id": "s-iTgo-ULDPY"
      },
      "execution_count": null,
      "outputs": []
    },
    {
      "cell_type": "markdown",
      "source": [
        "## **4. Criação de diretórios**"
      ],
      "metadata": {
        "id": "uumA2U2D9Ata"
      }
    },
    {
      "cell_type": "code",
      "source": [
        "# === Diretórios ===\n",
        "base_folder = os.path.dirname(pdb_files[0])\n",
        "output_clean_folder = os.path.join(base_folder, \"cleaned_pdbs\")\n",
        "output_pqr_folder = os.path.join(base_folder, \"pqr_pdb2pqr\")\n",
        "os.makedirs(output_clean_folder, exist_ok=True)\n",
        "os.makedirs(output_pqr_folder, exist_ok=True)"
      ],
      "metadata": {
        "id": "wohuZaqVXt9W"
      },
      "execution_count": null,
      "outputs": []
    },
    {
      "cell_type": "markdown",
      "source": [
        "## **5. Remoção de Heteroatomos**"
      ],
      "metadata": {
        "id": "yR1r-ZqP9xCF"
      }
    },
    {
      "cell_type": "code",
      "source": [
        "cleaned_pdb_files = []\n",
        "generated_pqr_files = []\n",
        "\n",
        "for pdb_path in pdb_files:\n",
        "    pdb_name = os.path.basename(pdb_path)\n",
        "    name = os.path.splitext(pdb_name)[0]\n",
        "\n",
        "    # --- Limpeza: mantém proteína e água, remove outros HETATM ---\n",
        "    clean_pdb = os.path.join(output_clean_folder, f\"{name}_clean.pdb\")\n",
        "    with open(pdb_path, \"r\") as fin, open(clean_pdb, \"w\") as fout:\n",
        "        for line in fin:\n",
        "            if line.startswith(\"ATOM\"):\n",
        "                fout.write(line)\n",
        "            elif line.startswith(\"HETATM\") and \"HOH\" in line:\n",
        "                fout.write(line)  # mantém apenas água\n",
        "    cleaned_pdb_files.append(clean_pdb)"
      ],
      "metadata": {
        "id": "10srW8SI5ZWj"
      },
      "execution_count": null,
      "outputs": []
    },
    {
      "cell_type": "markdown",
      "source": [
        "## **6. Protonação (pH=7.4)**"
      ],
      "metadata": {
        "id": "o8H03uRt6sGK"
      }
    },
    {
      "cell_type": "code",
      "source": [
        "generated_pqr_files = []\n",
        "\n",
        "for clean_pdb in cleaned_pdb_files:\n",
        "    name = os.path.splitext(os.path.basename(clean_pdb))[0].replace(\"_clean\", \"\")\n",
        "    pqr_out = os.path.join(output_pqr_folder, f\"{name}.pqr\")\n",
        "\n",
        "    cmd = [\n",
        "        \"pdb2pqr\",\n",
        "        \"--ff\", \"AMBER\",\n",
        "        \"--with-ph\", \"7.4\",\n",
        "        clean_pdb,\n",
        "        pqr_out\n",
        "    ]\n",
        "\n",
        "    result = subprocess.run(cmd, stdout=subprocess.PIPE, stderr=subprocess.PIPE, text=True)\n",
        "\n",
        "    if result.returncode == 0 and os.path.exists(pqr_out):\n",
        "        generated_pqr_files.append(pqr_out)"
      ],
      "metadata": {
        "id": "9XRJoUVo5qJm"
      },
      "execution_count": null,
      "outputs": []
    },
    {
      "cell_type": "markdown",
      "source": [
        "## **7. Verificação do resultado**"
      ],
      "metadata": {
        "id": "wNFdoDSRCEgU"
      }
    },
    {
      "cell_type": "code",
      "source": [
        "any(\" H\" in line[12:16] for line in open(pqr_out))"
      ],
      "metadata": {
        "colab": {
          "base_uri": "https://localhost:8080/"
        },
        "id": "FaBfaOvP_WA6",
        "outputId": "f5a584c8-a3be-4250-e9c3-a01107198d90"
      },
      "execution_count": null,
      "outputs": [
        {
          "output_type": "execute_result",
          "data": {
            "text/plain": [
              "True"
            ]
          },
          "metadata": {},
          "execution_count": 27
        }
      ]
    },
    {
      "cell_type": "markdown",
      "source": [
        "## **8. Compactação dos ficheiros PQR**"
      ],
      "metadata": {
        "id": "6Emp_SPzD0Pb"
      }
    },
    {
      "cell_type": "code",
      "source": [
        "# Caminho da pasta com os PQRs\n",
        "pqr_folder = output_pqr_folder\n",
        "zip_path = \"/content/pqr_files.zip\"  # arquivo zip que será criado\n",
        "\n",
        "# Compacta todos os arquivos da pasta\n",
        "shutil.make_archive(base_name=\"/content/pqr_files\", format='zip', root_dir=pqr_folder)\n",
        "print(\"Pasta compactada em:\", zip_path)"
      ],
      "metadata": {
        "colab": {
          "base_uri": "https://localhost:8080/"
        },
        "id": "xnsGBLBzDHcj",
        "outputId": "486c7b1c-0ebd-4eaf-fcc2-3e5b4dd5983d"
      },
      "execution_count": null,
      "outputs": [
        {
          "output_type": "stream",
          "name": "stdout",
          "text": [
            "Pasta compactada em: /content/pqr_files.zip\n"
          ]
        }
      ]
    },
    {
      "cell_type": "code",
      "source": [
        "from google.colab import drive\n",
        "drive.mount('/content/drive')"
      ],
      "metadata": {
        "id": "bD9iRNK9Mkmn"
      },
      "execution_count": null,
      "outputs": []
    },
    {
      "cell_type": "markdown",
      "source": [
        "## **9. Download do Zip**"
      ],
      "metadata": {
        "id": "WWwrMGtHD2j6"
      }
    },
    {
      "cell_type": "code",
      "source": [
        "files.download(zip_path)"
      ],
      "metadata": {
        "colab": {
          "base_uri": "https://localhost:8080/",
          "height": 17
        },
        "id": "upvNpeyHDQnc",
        "outputId": "d9358f9b-6a7f-400f-9af3-9eb3b86e52fd"
      },
      "execution_count": null,
      "outputs": [
        {
          "output_type": "display_data",
          "data": {
            "text/plain": [
              "<IPython.core.display.Javascript object>"
            ],
            "application/javascript": [
              "\n",
              "    async function download(id, filename, size) {\n",
              "      if (!google.colab.kernel.accessAllowed) {\n",
              "        return;\n",
              "      }\n",
              "      const div = document.createElement('div');\n",
              "      const label = document.createElement('label');\n",
              "      label.textContent = `Downloading \"${filename}\": `;\n",
              "      div.appendChild(label);\n",
              "      const progress = document.createElement('progress');\n",
              "      progress.max = size;\n",
              "      div.appendChild(progress);\n",
              "      document.body.appendChild(div);\n",
              "\n",
              "      const buffers = [];\n",
              "      let downloaded = 0;\n",
              "\n",
              "      const channel = await google.colab.kernel.comms.open(id);\n",
              "      // Send a message to notify the kernel that we're ready.\n",
              "      channel.send({})\n",
              "\n",
              "      for await (const message of channel.messages) {\n",
              "        // Send a message to notify the kernel that we're ready.\n",
              "        channel.send({})\n",
              "        if (message.buffers) {\n",
              "          for (const buffer of message.buffers) {\n",
              "            buffers.push(buffer);\n",
              "            downloaded += buffer.byteLength;\n",
              "            progress.value = downloaded;\n",
              "          }\n",
              "        }\n",
              "      }\n",
              "      const blob = new Blob(buffers, {type: 'application/binary'});\n",
              "      const a = document.createElement('a');\n",
              "      a.href = window.URL.createObjectURL(blob);\n",
              "      a.download = filename;\n",
              "      div.appendChild(a);\n",
              "      a.click();\n",
              "      div.remove();\n",
              "    }\n",
              "  "
            ]
          },
          "metadata": {}
        },
        {
          "output_type": "display_data",
          "data": {
            "text/plain": [
              "<IPython.core.display.Javascript object>"
            ],
            "application/javascript": [
              "download(\"download_e26bf0ea-a3af-4387-b781-04a67351a6e7\", \"pqr_files.zip\", 4844123)"
            ]
          },
          "metadata": {}
        }
      ]
    }
  ]
}